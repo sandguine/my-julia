{
 "cells": [
  {
   "cell_type": "markdown",
   "metadata": {},
   "source": [
    "### Hello, World! This is my fist Julia.\n",
    "#### Sandy Tanwisuth\n",
    "#### July 2nd, 2019\n",
    "\n",
    "Let's get started with some packages."
   ]
  },
  {
   "cell_type": "code",
   "execution_count": null,
   "metadata": {},
   "outputs": [],
   "source": [
    "Pkg.add(\"OhMyRepl\")\n",
    "Pkg.add(\"PyCall\")\n",
    "Pkg.add(\"DataFrame\")\n",
    "Pkg.add(\"CSV\")"
   ]
  },
  {
   "cell_type": "code",
   "execution_count": null,
   "metadata": {},
   "outputs": [],
   "source": [
    "using OhMyRepl\n",
    "using Pycall\n",
    "using DataFrame\n",
    "using CSV"
   ]
  },
  {
   "cell_type": "markdown",
   "metadata": {},
   "source": [
    "I'm just having fun testing supertype:"
   ]
  },
  {
   "cell_type": "code",
   "execution_count": null,
   "metadata": {},
   "outputs": [],
   "source": [
    "typeof(4)\n",
    "supertype(typeof(4))\n",
    "supertype(supertype(typeof(4)))\n",
    "supertype(supertype(supertype(typeof(4))))\n",
    "supertype(supertype(supertype(supertype(typeof(4)))))\n",
    "supertype(supertype(supertype(supertype(supertype(typeof(4))))))\n",
    "supertype(supertype(supertype(supertype(supertype(supertype(typeof(4)))))))"
   ]
  },
  {
   "cell_type": "markdown",
   "metadata": {},
   "source": [
    "Let's test some constants:"
   ]
  },
  {
   "cell_type": "code",
   "execution_count": null,
   "metadata": {},
   "outputs": [],
   "source": [
    "π\n",
    "im\n",
    "ℯ"
   ]
  },
  {
   "cell_type": "markdown",
   "metadata": {},
   "source": [
    "Just saying..."
   ]
  },
  {
   "cell_type": "code",
   "execution_count": null,
   "metadata": {},
   "outputs": [],
   "source": [
    "ℯ^(im*π)+1"
   ]
  }
 ],
 "metadata": {
  "@webio": {
   "lastCommId": null,
   "lastKernelId": null
  },
  "kernelspec": {
   "display_name": "Julia 1.1.1",
   "language": "julia",
   "name": "julia-1.1"
  },
  "language_info": {
   "file_extension": ".jl",
   "mimetype": "application/julia",
   "name": "julia",
   "version": "1.1.1"
  }
 },
 "nbformat": 4,
 "nbformat_minor": 2
}
